{
 "cells": [
  {
   "cell_type": "code",
   "execution_count": 33,
   "id": "42cd899b",
   "metadata": {},
   "outputs": [
    {
     "name": "stdout",
     "output_type": "stream",
     "text": [
      "Name: Kennedy James\n",
      " BMI \tClassification \t  Health Risk\n",
      "34.74 \t  Obese\t  \t\tHigh\n"
     ]
    }
   ],
   "source": [
    "# Create a body mass index calculator \n",
    "# BMI = (weight in pounds * 703) / (height in inches * height in inches)\n",
    "name = input(\"Enter your name: \")\n",
    "weight = int(input(\"Enter your weight in pounds: \"))\n",
    "height = int(input(\"Enter your height in inches: \"))\n",
    "\n",
    "body_mass_index = (weight * 703) / (height **2)\n",
    "print(f'Name: {name}')\n",
    "print(' BMI \\tClassification \\t  Health Risk')\n",
    "if body_mass_index > 0:\n",
    "    if body_mass_index < 18.5:\n",
    "        print(f'{round(body_mass_index,2)} \\t Underweight\\t   Minimal')\n",
    "    elif body_mass_index <= 24.9:\n",
    "        print(f'{round(body_mass_index, 2)} \\t Normal Weight\\t   Minimal')\n",
    "    elif body_mass_index <= 29.9:\n",
    "        print(f'{round(body_mass_index, 2)} \\t Overwight\\t   Increased')\n",
    "    elif body_mass_index <= 34.9:\n",
    "        print(f'{round(body_mass_index, 2)} \\t  Obese\\t  \\t\\tHigh')\n",
    "    elif body_mass_index <= 39.9:\n",
    "        print(f'{round(body_mass_index, 2)} \\t Severly Obese\\t   Very High')\n",
    "    elif body_mass_index > 40:\n",
    "        print(f'{round(body_mass_index, 2)} \\t Morbidly Obese\\t   Extremely High')"
   ]
  }
 ],
 "metadata": {
  "kernelspec": {
   "display_name": "Python 3",
   "language": "python",
   "name": "python3"
  },
  "language_info": {
   "codemirror_mode": {
    "name": "ipython",
    "version": 3
   },
   "file_extension": ".py",
   "mimetype": "text/x-python",
   "name": "python",
   "nbconvert_exporter": "python",
   "pygments_lexer": "ipython3",
   "version": "3.13.6"
  }
 },
 "nbformat": 4,
 "nbformat_minor": 5
}
