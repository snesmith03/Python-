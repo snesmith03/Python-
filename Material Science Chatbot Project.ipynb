{
 "cells": [
  {
   "cell_type": "code",
   "execution_count": null,
   "id": "8ae116d3",
   "metadata": {},
   "outputs": [
    {
     "name": "stdout",
     "output_type": "stream",
     "text": [
      "Welcome to the Material Science Bot! Type 'exit' to quit when you are done.\n",
      "Bot: Corresponds to a materials resistance to permanent (plastic) deformation.\n",
      "Bot: I am currently working on expanding the depths of the chatbot. In the mean time, ask about different materials, material properties, and crystal structures\n",
      "Bot: Goodbye! Make sure to keep exploring materials!\n"
     ]
    }
   ],
   "source": [
    "# Chatbot structure \n",
    "# Material Science Knowledge Base \n",
    "knowledge = {\n",
    "    \"youngs modulus\": \"Young's Modulus refers to a materials stress/strain ratio when subject to axial deformation.\",\n",
    "    \"elastic modulus\": \"Elastic modulus corresponds to a materials resistance to permanent (plastic) deformation.\",\n",
    "    \"ceramics\": \"Ceramics are often used for high-temperature applications due to their resistance to heat and warping.\",\n",
    "    \"metals\": \"Metals are often categorized as materials that conduct heat and electricity well (examples: copper, aluminum, steel).\",\n",
    "    \"polymers\": \"Polymers contain chains of simple repeat units (monomers) that often showcase both rigid and flexible behavior depending on their crystallinity (molecular arrangement).\",\n",
    "    \"common crystal structures\": \"Body-centered cubic, face-centered cubic, and hexagonal close-packed are the three most common crystal structures.\"\n",
    "}\n",
    "\n",
    "# chatbot response function\n",
    "def get_response(user_input):\n",
    "    user_input = user_input.lower()\n",
    "    for key in knowledge:\n",
    "        if key in user_input:\n",
    "            return knowledge[key]\n",
    "    return \"I am currently working on expanding the depths of the chatbot. In the mean time, ask about different materials, material properties, and crystal structures\" # fallback message\n",
    "\n",
    "# chat loop \n",
    "print(\"Welcome to the Material Science Bot! Type 'exit' to quit when you are done.\")\n",
    "while True:\n",
    "    user = input(\"You: \")\n",
    "    if user.lower() == \"exit\":\n",
    "        print(\"Bot: Goodbye! Make sure to keep exploring materials!\")\n",
    "        break\n",
    "    response = get_response(user)\n",
    "    print(\"Bot:\", response)"
   ]
  }
 ],
 "metadata": {
  "kernelspec": {
   "display_name": "Python 3",
   "language": "python",
   "name": "python3"
  },
  "language_info": {
   "codemirror_mode": {
    "name": "ipython",
    "version": 3
   },
   "file_extension": ".py",
   "mimetype": "text/x-python",
   "name": "python",
   "nbconvert_exporter": "python",
   "pygments_lexer": "ipython3",
   "version": "3.13.6"
  }
 },
 "nbformat": 4,
 "nbformat_minor": 5
}
