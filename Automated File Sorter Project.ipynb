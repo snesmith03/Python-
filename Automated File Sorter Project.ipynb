{
 "cells": [
  {
   "cell_type": "code",
   "execution_count": 1,
   "id": "e8a219b9",
   "metadata": {},
   "outputs": [],
   "source": [
    "# Automatic File Sorter\n",
    "import os, shutil"
   ]
  },
  {
   "cell_type": "code",
   "execution_count": 6,
   "id": "6f3a426a",
   "metadata": {},
   "outputs": [],
   "source": [
    "# create path (ensure to user forward slashes (/) to prevent errors in path location)\n",
    "path = r\"C:/Users/Sabria/Downloads/Excel Basics - Alex the Analyst/\""
   ]
  },
  {
   "cell_type": "code",
   "execution_count": 11,
   "id": "ae7822f2",
   "metadata": {},
   "outputs": [
    {
     "name": "stdout",
     "output_type": "stream",
     "text": [
      "['Conditional Formatting Excel Tutorial File.xlsx', 'csv files', 'Data Cleaning Excel Tutorial.xlsx', 'Excel Charts Tutorial File.xlsx', 'Excel data - Data Analytics Bootcamp.xlsx', 'excel files', 'Formula Excel Template - Alex the Analyst.xlsx', 'Sales.csv', 'XLOOKUP Excel Tutorial - Alex the Analyst.xlsx', '~$Data Cleaning Excel Tutorial.xlsx', '~$XLOOKUP Excel Tutorial - Alex the Analyst.xlsx']\n"
     ]
    }
   ],
   "source": [
    "# showcases the files in the path \n",
    "file_names = os.listdir(path)\n",
    "print(file_names)"
   ]
  },
  {
   "cell_type": "code",
   "execution_count": 9,
   "id": "ce426b85",
   "metadata": {},
   "outputs": [],
   "source": [
    "# iterate through a specified range and create the folder name in the path if it doesn't exist\n",
    "folder_names = ['excel files', 'csv files']\n",
    "\n",
    "for folder in folder_names:\n",
    "    if not os.path.exists(path + folder):\n",
    "        os.makedirs(path + folder)\n"
   ]
  },
  {
   "cell_type": "code",
   "execution_count": 18,
   "id": "dfbbd2a7",
   "metadata": {},
   "outputs": [
    {
     "name": "stdout",
     "output_type": "stream",
     "text": [
      "Moved: Conditional Formatting Excel Tutorial File.xlsx\n",
      "Moved: Data Cleaning Excel Tutorial.xlsx\n",
      "Moved: Excel Charts Tutorial File.xlsx\n",
      "Moved: Excel data - Data Analytics Bootcamp.xlsx\n",
      "Moved: Formula Excel Template - Alex the Analyst.xlsx\n",
      "Moved: XLOOKUP Excel Tutorial - Alex the Analyst.xlsx\n"
     ]
    }
   ],
   "source": [
    "# assign the correct files to a specific folder \n",
    "for file in file_names:\n",
    "    if file.startswith(\"~$\"):\n",
    "        continue # skip over temporary excel lock files (these prevent multiple users from editing at once)\n",
    "\n",
    "    if file.lower().endswith(\".xlsx\"):\n",
    "        folder = folder_names[0]\n",
    "        source = os.path.join(path, file)\n",
    "        destination = os.path.join(path, folder, file)\n",
    "\n",
    "        if not os.path.exists(destination):\n",
    "            try:\n",
    "                shutil.move(source, destination)\n",
    "                print(f\"Moved: {file}\")\n",
    "            except Exception as e:\n",
    "                print(f\"Could not move {file}: {e}\")\n",
    "    elif file.lower().endswith(\".csv\"):\n",
    "        folder = folder_names[1]\n",
    "        source = os.path.join(path, file)\n",
    "        destination = os.path.join(path, folder, file)\n",
    "        \n",
    "        if not os.path.exists(destination):\n",
    "            try:\n",
    "                shutil.move(source, destination)\n",
    "                print(f\"Moved: {file}\")\n",
    "            except Exception as e:\n",
    "                print(f\"Could not move {file}: {e}\")\n"
   ]
  }
 ],
 "metadata": {
  "kernelspec": {
   "display_name": "Python 3",
   "language": "python",
   "name": "python3"
  },
  "language_info": {
   "codemirror_mode": {
    "name": "ipython",
    "version": 3
   },
   "file_extension": ".py",
   "mimetype": "text/x-python",
   "name": "python",
   "nbconvert_exporter": "python",
   "pygments_lexer": "ipython3",
   "version": "3.13.6"
  }
 },
 "nbformat": 4,
 "nbformat_minor": 5
}
